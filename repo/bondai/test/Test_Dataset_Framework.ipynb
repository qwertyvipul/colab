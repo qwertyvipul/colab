{
  "nbformat": 4,
  "nbformat_minor": 0,
  "metadata": {
    "colab": {
      "name": "Test_Dataset_Framework.ipynb",
      "version": "0.3.2",
      "provenance": [],
      "include_colab_link": true
    },
    "kernelspec": {
      "name": "python3",
      "display_name": "Python 3"
    }
  },
  "cells": [
    {
      "cell_type": "markdown",
      "metadata": {
        "id": "view-in-github",
        "colab_type": "text"
      },
      "source": [
        "<a href=\"https://colab.research.google.com/github/thevipulsharma/colab/blob/master/repo/bondai/test/Test_Dataset_Framework.ipynb\" target=\"_parent\"><img src=\"https://colab.research.google.com/assets/colab-badge.svg\" alt=\"Open In Colab\"/></a>"
      ]
    },
    {
      "metadata": {
        "id": "BU9TbKtIaKIE",
        "colab_type": "text"
      },
      "cell_type": "markdown",
      "source": [
        "# Test_Dataset_Framework"
      ]
    },
    {
      "metadata": {
        "id": "cBm4RgoeaYBr",
        "colab_type": "text"
      },
      "cell_type": "markdown",
      "source": [
        "### Data\n",
        "1. Company Financials\n",
        "2. Company Stock Prices"
      ]
    },
    {
      "metadata": {
        "id": "Ef6gE-VYKZDL",
        "colab_type": "code",
        "colab": {}
      },
      "cell_type": "code",
      "source": [
        "# DB Files for S&P 500 Companies\n",
        "from google.colab import drive\n",
        "\n",
        "# Files to process\n",
        "do_file = \"/content/gdrive/My Drive/Colab Notebooks/Data/Bondai/Test/do_file.txt\"\n",
        "done_file = \"/content/gdrive/My Drive/Colab Notebooks/Data/Bondai/Test/done_file.txt\""
      ],
      "execution_count": 0,
      "outputs": []
    },
    {
      "metadata": {
        "id": "GQ6CA5RgLWpH",
        "colab_type": "code",
        "colab": {}
      },
      "cell_type": "code",
      "source": [
        "# Reading the files\n",
        "import pandas as pd\n",
        "do_df = pd.read_csv(\"/content/gdrive/My Drive/Colab Notebooks/Data/Bondai/Test/do_file.txt\", header=None, names=[\"Tickers\"])\n",
        "done_df = pd.read_csv(\"/content/gdrive/My Drive/Colab Notebooks/Data/Bondai/Test/done_file.txt\", header=None, names=[\"Tickers\"])"
      ],
      "execution_count": 0,
      "outputs": []
    },
    {
      "metadata": {
        "id": "d44-JWVdLP6a",
        "colab_type": "code",
        "colab": {}
      },
      "cell_type": "code",
      "source": [
        "do_list = set(do_df[\"Tickers\"].tolist())\n",
        "done_list = set(done_df[\"Tickers\"].tolist())"
      ],
      "execution_count": 0,
      "outputs": []
    },
    {
      "metadata": {
        "id": "ijIAwAY4UYdP",
        "colab_type": "code",
        "colab": {
          "base_uri": "https://localhost:8080/",
          "height": 34
        },
        "outputId": "93d3e2de-2293-4161-b084-b6e73596541a"
      },
      "cell_type": "code",
      "source": [
        "url_paths = {\n",
        "    'company': 'https://stockrow.com/api/companies/',\n",
        "    'annual': {\n",
        "        'income-statement': '/financials.xlsx?dimension=MRY&section=Income%20Statement&sort=desc',\n",
        "        'balance-sheet': '/financials.xlsx?dimension=MRY&section=Balance%20Sheet&sort=desc',\n",
        "        'cashflow-statement': '/financials.xlsx?dimension=MRY&section=Cash%20Flow&sort=desc',\n",
        "        'metrics': '/financials.xlsx?dimension=MRY&section=Metrics&sort=desc',\n",
        "        'growth': '/financials.xlsx?dimension=MRY&section=Growth&sort=desc'\n",
        "    } \n",
        "}"
      ],
      "execution_count": 13,
      "outputs": [
        {
          "output_type": "execute_result",
          "data": {
            "text/plain": [
              "{'AAPL', 'IBM', 'MSFT'}"
            ]
          },
          "metadata": {
            "tags": []
          },
          "execution_count": 13
        }
      ]
    }
  ]
}